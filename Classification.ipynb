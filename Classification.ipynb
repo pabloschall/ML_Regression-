{
 "cells": [
  {
   "cell_type": "code",
   "execution_count": 1,
   "metadata": {
    "collapsed": true
   },
   "outputs": [],
   "source": [
    "import matplotlib.pyplot as plt\n",
    "import numpy as np\n",
    "%matplotlib inline"
   ]
  },
  {
   "cell_type": "markdown",
   "metadata": {},
   "source": [
    "Classification\n",
    "==============="
   ]
  },
  {
   "cell_type": "markdown",
   "metadata": {},
   "source": [
    "Get some data to play with"
   ]
  },
  {
   "cell_type": "code",
   "execution_count": 2,
   "metadata": {
    "collapsed": false
   },
   "outputs": [
    {
     "data": {
      "text/plain": [
       "dict_keys(['target_names', 'images', 'DESCR', 'data', 'target'])"
      ]
     },
     "execution_count": 2,
     "metadata": {},
     "output_type": "execute_result"
    }
   ],
   "source": [
    "from sklearn.datasets import load_digits\n",
    "digits = load_digits()\n",
    "digits.keys()"
   ]
  },
  {
   "cell_type": "code",
   "execution_count": 3,
   "metadata": {
    "collapsed": false
   },
   "outputs": [
    {
     "data": {
      "text/plain": [
       "(1797, 8, 8)"
      ]
     },
     "execution_count": 3,
     "metadata": {},
     "output_type": "execute_result"
    }
   ],
   "source": [
    "digits.images.shape"
   ]
  },
  {
   "cell_type": "code",
   "execution_count": 4,
   "metadata": {
    "collapsed": false
   },
   "outputs": [
    {
     "name": "stdout",
     "output_type": "stream",
     "text": [
      "[[  0.   0.   5.  13.   9.   1.   0.   0.]\n",
      " [  0.   0.  13.  15.  10.  15.   5.   0.]\n",
      " [  0.   3.  15.   2.   0.  11.   8.   0.]\n",
      " [  0.   4.  12.   0.   0.   8.   8.   0.]\n",
      " [  0.   5.   8.   0.   0.   9.   8.   0.]\n",
      " [  0.   4.  11.   0.   1.  12.   7.   0.]\n",
      " [  0.   2.  14.   5.  10.  12.   0.   0.]\n",
      " [  0.   0.   6.  13.  10.   0.   0.   0.]]\n"
     ]
    }
   ],
   "source": [
    "print(digits.images[0])"
   ]
  },
  {
   "cell_type": "code",
   "execution_count": 5,
   "metadata": {
    "collapsed": false
   },
   "outputs": [
    {
     "data": {
      "text/plain": [
       "<matplotlib.image.AxesImage at 0x7d220b8>"
      ]
     },
     "execution_count": 5,
     "metadata": {},
     "output_type": "execute_result"
    },
    {
     "data": {
      "image/png": "[encoded data removed]",
      "text/plain": [
       "<matplotlib.figure.Figure at 0x85b3f60>"
      ]
     },
     "metadata": {},
     "output_type": "display_data"
    }
   ],
   "source": [
    "plt.matshow(digits.images[0], cmap=plt.cm.Greys)"
   ]
  },
  {
   "cell_type": "code",
   "execution_count": 6,
   "metadata": {
    "collapsed": false
   },
   "outputs": [
    {
     "data": {
      "text/plain": [
       "(1797, 64)"
      ]
     },
     "execution_count": 6,
     "metadata": {},
     "output_type": "execute_result"
    }
   ],
   "source": [
    "digits.data.shape"
   ]
  },
  {
   "cell_type": "code",
   "execution_count": 7,
   "metadata": {
    "collapsed": false
   },
   "outputs": [
    {
     "data": {
      "text/plain": [
       "(1797,)"
      ]
     },
     "execution_count": 7,
     "metadata": {},
     "output_type": "execute_result"
    }
   ],
   "source": [
    "digits.target.shape"
   ]
  },
  {
   "cell_type": "code",
   "execution_count": 8,
   "metadata": {
    "collapsed": false
   },
   "outputs": [
    {
     "data": {
      "text/plain": [
       "array([0, 1, 2, ..., 8, 9, 8])"
      ]
     },
     "execution_count": 8,
     "metadata": {},
     "output_type": "execute_result"
    }
   ],
   "source": [
    "digits.target"
   ]
  },
  {
   "cell_type": "markdown",
   "metadata": {},
   "source": [
    "**Data is always a numpy array (or sparse matrix) of shape (n_samples, n_features)**"
   ]
  },
  {
   "cell_type": "markdown",
   "metadata": {},
   "source": [
    "Split the data to get going"
   ]
  },
  {
   "cell_type": "code",
   "execution_count": 9,
   "metadata": {
    "collapsed": false
   },
   "outputs": [],
   "source": [
    "from sklearn.cross_validation import train_test_split\n",
    "X_train, X_test, y_train, y_test = train_test_split(digits.data, digits.target)"
   ]
  },
  {
   "cell_type": "markdown",
   "metadata": {},
   "source": [
    "Really Simple API\n",
    "-------------------\n",
    "0) Import your model class"
   ]
  },
  {
   "cell_type": "code",
   "execution_count": 10,
   "metadata": {
    "collapsed": false
   },
   "outputs": [],
   "source": [
    "from sklearn.svm import LinearSVC"
   ]
  },
  {
   "cell_type": "markdown",
   "metadata": {},
   "source": [
    "1) Instantiate an object and set the parameters"
   ]
  },
  {
   "cell_type": "code",
   "execution_count": 11,
   "metadata": {
    "collapsed": false
   },
   "outputs": [],
   "source": [
    "svm = LinearSVC(C=0.1)"
   ]
  },
  {
   "cell_type": "markdown",
   "metadata": {},
   "source": [
    "2) Fit the model"
   ]
  },
  {
   "cell_type": "code",
   "execution_count": 12,
   "metadata": {
    "collapsed": false
   },
   "outputs": [
    {
     "data": {
      "text/plain": [
       "LinearSVC(C=0.1, class_weight=None, dual=True, fit_intercept=True,\n",
       "     intercept_scaling=1, loss='squared_hinge', max_iter=1000,\n",
       "     multi_class='ovr', penalty='l2', random_state=None, tol=0.0001,\n",
       "     verbose=0)"
      ]
     },
     "execution_count": 12,
     "metadata": {},
     "output_type": "execute_result"
    }
   ],
   "source": [
    "svm.fit(X_train, y_train)"
   ]
  },
  {
   "cell_type": "markdown",
   "metadata": {},
   "source": [
    "3) Apply / evaluate"
   ]
  },
  {
   "cell_type": "code",
   "execution_count": 13,
   "metadata": {
    "collapsed": false
   },
   "outputs": [
    {
     "name": "stdout",
     "output_type": "stream",
     "text": [
      "[0 7 3 ..., 0 1 2]\n",
      "[0 7 3 ..., 0 1 2]\n"
     ]
    }
   ],
   "source": [
    "print(svm.predict(X_train))\n",
    "print(y_train)"
   ]
  },
  {
   "cell_type": "code",
   "execution_count": 14,
   "metadata": {
    "collapsed": false
   },
   "outputs": [
    {
     "data": {
      "text/plain": [
       "0.99480326651818862"
      ]
     },
     "execution_count": 14,
     "metadata": {},
     "output_type": "execute_result"
    }
   ],
   "source": [
    "svm.score(X_train, y_train)"
   ]
  },
  {
   "cell_type": "code",
   "execution_count": 15,
   "metadata": {
    "collapsed": false
   },
   "outputs": [
    {
     "data": {
      "text/plain": [
       "0.95999999999999996"
      ]
     },
     "execution_count": 15,
     "metadata": {},
     "output_type": "execute_result"
    }
   ],
   "source": [
    "svm.score(X_test, y_test)"
   ]
  },
  {
   "cell_type": "markdown",
   "metadata": {},
   "source": [
    "And again\n",
    "---------"
   ]
  },
  {
   "cell_type": "code",
   "execution_count": 16,
   "metadata": {
    "collapsed": false
   },
   "outputs": [],
   "source": [
    "from sklearn.ensemble import RandomForestClassifier"
   ]
  },
  {
   "cell_type": "code",
   "execution_count": 17,
   "metadata": {
    "collapsed": false
   },
   "outputs": [],
   "source": [
    "rf = RandomForestClassifier(n_estimators=50)"
   ]
  },
  {
   "cell_type": "code",
   "execution_count": 18,
   "metadata": {
    "collapsed": false
   },
   "outputs": [
    {
     "data": {
      "text/plain": [
       "RandomForestClassifier(bootstrap=True, class_weight=None, criterion='gini',\n",
       "            max_depth=None, max_features='auto', max_leaf_nodes=None,\n",
       "            min_samples_leaf=1, min_samples_split=2,\n",
       "            min_weight_fraction_leaf=0.0, n_estimators=50, n_jobs=1,\n",
       "            oob_score=False, random_state=None, verbose=0,\n",
       "            warm_start=False)"
      ]
     },
     "execution_count": 18,
     "metadata": {},
     "output_type": "execute_result"
    }
   ],
   "source": [
    "rf.fit(X_train, y_train)"
   ]
  },
  {
   "cell_type": "code",
   "execution_count": 19,
   "metadata": {
    "collapsed": false
   },
   "outputs": [
    {
     "data": {
      "text/plain": [
       "array([5, 9, 5, 7, 2, 9, 9, 2, 8, 3, 3, 0, 8, 3, 0, 1, 1, 7, 8, 7, 9, 3, 3,\n",
       "       2, 9, 1, 4, 9, 0, 1, 2, 8, 3, 5, 4, 1, 6, 8, 9, 2, 1, 2, 6, 0, 2, 8,\n",
       "       4, 0, 1, 2, 4, 5, 0, 0, 9, 4, 1, 2, 2, 8, 4, 4, 4, 8, 7, 0, 0, 6, 1,\n",
       "       8, 3, 9, 3, 1, 2, 3, 7, 2, 2, 1, 7, 4, 1, 2, 8, 1, 1, 4, 5, 2, 8, 4,\n",
       "       1, 9, 6, 4, 7, 4, 6, 4, 0, 4, 4, 7, 7, 1, 8, 6, 3, 4, 5, 4, 2, 6, 1,\n",
       "       8, 9, 6, 0, 9, 6, 0, 7, 7, 7, 0, 0, 5, 0, 7, 1, 5, 9, 1, 3, 3, 8, 1,\n",
       "       5, 3, 2, 0, 6, 6, 5, 8, 5, 1, 4, 9, 2, 7, 5, 3, 6, 6, 5, 0, 4, 2, 4,\n",
       "       0, 8, 8, 2, 2, 5, 5, 7, 6, 2, 5, 7, 9, 9, 0, 0, 7, 0, 6, 6, 7, 5, 9,\n",
       "       3, 4, 3, 2, 9, 8, 5, 7, 8, 1, 9, 8, 7, 6, 3, 7, 4, 3, 0, 8, 9, 1, 1,\n",
       "       9, 3, 9, 5, 8, 3, 5, 9, 9, 0, 7, 0, 5, 1, 3, 1, 8, 3, 2, 7, 5, 3, 4,\n",
       "       4, 2, 0, 5, 1, 1, 6, 1, 6, 8, 9, 4, 2, 1, 8, 6, 3, 1, 1, 3, 4, 7, 2,\n",
       "       2, 6, 8, 1, 5, 8, 9, 0, 1, 7, 5, 6, 3, 8, 6, 3, 3, 5, 4, 6, 2, 3, 4,\n",
       "       9, 0, 1, 6, 6, 9, 0, 1, 9, 7, 9, 8, 1, 0, 7, 8, 5, 9, 9, 7, 1, 3, 6,\n",
       "       5, 1, 1, 3, 3, 2, 1, 8, 5, 6, 1, 8, 4, 2, 9, 9, 2, 1, 9, 9, 3, 8, 1,\n",
       "       2, 4, 9, 8, 4, 1, 0, 3, 1, 4, 5, 4, 0, 8, 4, 6, 7, 1, 1, 5, 4, 7, 3,\n",
       "       3, 6, 0, 4, 2, 8, 0, 4, 5, 7, 7, 1, 9, 8, 1, 1, 2, 4, 6, 8, 6, 2, 5,\n",
       "       2, 1, 0, 3, 6, 4, 1, 3, 9, 8, 4, 8, 2, 7, 4, 0, 4, 9, 9, 5, 7, 8, 3,\n",
       "       7, 3, 9, 7, 7, 4, 0, 3, 5, 1, 4, 0, 9, 3, 2, 6, 5, 3, 8, 6, 1, 8, 8,\n",
       "       6, 0, 7, 7, 1, 7, 0, 5, 3, 2, 9, 9, 3, 6, 2, 4, 1, 7, 3, 7, 4, 7, 4,\n",
       "       9, 9, 9, 7, 9, 8, 8, 8, 0, 1, 5, 1, 2])"
      ]
     },
     "execution_count": 19,
     "metadata": {},
     "output_type": "execute_result"
    }
   ],
   "source": [
    "rf.predict(X_test)"
   ]
  },
  {
   "cell_type": "code",
   "execution_count": 20,
   "metadata": {
    "collapsed": false
   },
   "outputs": [
    {
     "data": {
      "text/plain": [
       "0.96888888888888891"
      ]
     },
     "execution_count": 20,
     "metadata": {},
     "output_type": "execute_result"
    }
   ],
   "source": [
    "rf.score(X_test, y_test)"
   ]
  },
  {
   "cell_type": "markdown",
   "metadata": {
    "collapsed": false
   },
   "source": [
    "<h1>Classifier Comparison</h1>\n",
    "<img src=\"classifier_comparison.png\" width=100%>"
   ]
  },
  {
   "cell_type": "markdown",
   "metadata": {},
   "source": [
    "Labels Can Be Anything\n",
    "============================="
   ]
  },
  {
   "cell_type": "code",
   "execution_count": 21,
   "metadata": {
    "collapsed": false
   },
   "outputs": [],
   "source": [
    "numbers = np.array([\"zero\", \"one\", \"two\", \"three\", \"four\", \"five\", \"six\", \"seven\", \"eight\", \"nine\"])"
   ]
  },
  {
   "cell_type": "code",
   "execution_count": 22,
   "metadata": {
    "collapsed": false
   },
   "outputs": [
    {
     "data": {
      "text/plain": [
       "LinearSVC(C=0.1, class_weight=None, dual=True, fit_intercept=True,\n",
       "     intercept_scaling=1, loss='squared_hinge', max_iter=1000,\n",
       "     multi_class='ovr', penalty='l2', random_state=None, tol=0.0001,\n",
       "     verbose=0)"
      ]
     },
     "execution_count": 22,
     "metadata": {},
     "output_type": "execute_result"
    }
   ],
   "source": [
    "y_train_string = numbers[y_train]\n",
    "svm.fit(X_train, y_train_string)"
   ]
  },
  {
   "cell_type": "code",
   "execution_count": 23,
   "metadata": {
    "collapsed": false,
    "scrolled": true
   },
   "outputs": [
    {
     "data": {
      "text/plain": [
       "array(['five', 'nine', 'five', 'seven', 'two', 'nine', 'nine', 'two',\n",
       "       'eight', 'three', 'three', 'zero', 'eight', 'three', 'zero', 'one',\n",
       "       'one', 'seven', 'eight', 'seven', 'nine', 'three', 'three', 'two',\n",
       "       'nine', 'one', 'four', 'nine', 'zero', 'one', 'two', 'eight',\n",
       "       'three', 'five', 'four', 'one', 'six', 'eight', 'nine', 'two',\n",
       "       'one', 'two', 'six', 'zero', 'two', 'two', 'four', 'zero', 'one',\n",
       "       'two', 'four', 'five', 'zero', 'zero', 'nine', 'four', 'one', 'two',\n",
       "       'two', 'eight', 'four', 'four', 'four', 'four', 'seven', 'zero',\n",
       "       'zero', 'six', 'one', 'eight', 'three', 'nine', 'three', 'one',\n",
       "       'two', 'three', 'seven', 'two', 'two', 'one', 'seven', 'four',\n",
       "       'one', 'two', 'eight', 'one', 'one', 'four', 'five', 'two', 'eight',\n",
       "       'four', 'one', 'nine', 'six', 'four', 'seven', 'four', 'six',\n",
       "       'four', 'zero', 'four', 'four', 'seven', 'seven', 'three', 'one',\n",
       "       'six', 'three', 'four', 'five', 'four', 'two', 'six', 'one',\n",
       "       'three', 'nine', 'six', 'zero', 'nine', 'six', 'zero', 'seven',\n",
       "       'seven', 'seven', 'zero', 'zero', 'five', 'zero', 'three', 'one',\n",
       "       'five', 'nine', 'one', 'three', 'three', 'nine', 'one', 'five',\n",
       "       'three', 'two', 'zero', 'six', 'six', 'five', 'eight', 'five',\n",
       "       'one', 'four', 'nine', 'two', 'seven', 'five', 'three', 'six',\n",
       "       'six', 'five', 'zero', 'four', 'two', 'four', 'zero', 'eight',\n",
       "       'eight', 'two', 'two', 'five', 'five', 'seven', 'six', 'two',\n",
       "       'five', 'seven', 'nine', 'nine', 'zero', 'zero', 'seven', 'zero',\n",
       "       'six', 'six', 'seven', 'five', 'nine', 'three', 'four', 'three',\n",
       "       'two', 'nine', 'eight', 'five', 'seven', 'eight', 'one', 'nine',\n",
       "       'eight', 'seven', 'six', 'three', 'seven', 'four', 'three', 'zero',\n",
       "       'eight', 'nine', 'one', 'one', 'nine', 'three', 'nine', 'five',\n",
       "       'eight', 'eight', 'five', 'nine', 'nine', 'zero', 'seven', 'zero',\n",
       "       'five', 'one', 'three', 'one', 'eight', 'three', 'two', 'seven',\n",
       "       'five', 'three', 'four', 'four', 'two', 'zero', 'five', 'one',\n",
       "       'one', 'six', 'one', 'six', 'one', 'nine', 'four', 'two', 'one',\n",
       "       'eight', 'six', 'three', 'one', 'one', 'nine', 'four', 'seven',\n",
       "       'two', 'two', 'six', 'eight', 'nine', 'five', 'eight', 'nine',\n",
       "       'zero', 'one', 'seven', 'five', 'six', 'three', 'eight', 'six',\n",
       "       'three', 'eight', 'nine', 'four', 'six', 'two', 'three', 'four',\n",
       "       'nine', 'zero', 'one', 'six', 'six', 'nine', 'zero', 'one', 'nine',\n",
       "       'seven', 'nine', 'eight', 'one', 'zero', 'seven', 'eight', 'five',\n",
       "       'nine', 'nine', 'seven', 'one', 'three', 'six', 'five', 'one',\n",
       "       'eight', 'three', 'three', 'two', 'one', 'eight', 'five', 'six',\n",
       "       'one', 'eight', 'four', 'two', 'nine', 'nine', 'two', 'one', 'nine',\n",
       "       'nine', 'seven', 'eight', 'one', 'two', 'four', 'nine', 'eight',\n",
       "       'four', 'one', 'zero', 'three', 'one', 'four', 'five', 'four',\n",
       "       'zero', 'three', 'four', 'six', 'seven', 'one', 'one', 'five',\n",
       "       'four', 'seven', 'three', 'three', 'six', 'two', 'four', 'two',\n",
       "       'eight', 'zero', 'six', 'five', 'seven', 'eight', 'one', 'nine',\n",
       "       'eight', 'one', 'one', 'two', 'four', 'six', 'eight', 'six', 'two',\n",
       "       'five', 'two', 'one', 'zero', 'three', 'six', 'seven', 'one',\n",
       "       'three', 'nine', 'eight', 'four', 'eight', 'two', 'seven', 'four',\n",
       "       'zero', 'four', 'eight', 'nine', 'five', 'seven', 'eight', 'three',\n",
       "       'seven', 'three', 'nine', 'seven', 'seven', 'four', 'zero', 'three',\n",
       "       'five', 'one', 'four', 'zero', 'nine', 'three', 'two', 'six',\n",
       "       'five', 'three', 'eight', 'six', 'one', 'eight', 'zero', 'six',\n",
       "       'zero', 'seven', 'seven', 'one', 'seven', 'zero', 'five', 'three',\n",
       "       'two', 'nine', 'nine', 'three', 'six', 'two', 'four', 'one',\n",
       "       'seven', 'three', 'seven', 'four', 'eight', 'four', 'nine', 'nine',\n",
       "       'nine', 'seven', 'nine', 'eight', 'eight', 'eight', 'zero', 'one',\n",
       "       'five', 'one', 'two'], \n",
       "      dtype='<U5')"
      ]
     },
     "execution_count": 23,
     "metadata": {},
     "output_type": "execute_result"
    }
   ],
   "source": [
    "svm.predict(X_test)"
   ]
  },
  {
   "cell_type": "code",
   "execution_count": null,
   "metadata": {
    "collapsed": true
   },
   "outputs": [],
   "source": []
  }
 ],
 "metadata": {
  "kernelspec": {
   "display_name": "Python 3",
   "language": "python",
   "name": "python3"
  },
  "language_info": {
   "codemirror_mode": {
    "name": "ipython",
    "version": 3
   },
   "file_extension": ".py",
   "mimetype": "text/x-python",
   "name": "python",
   "nbconvert_exporter": "python",
   "pygments_lexer": "ipython3",
   "version": "3.4.3"
  }
 },
 "nbformat": 4,
 "nbformat_minor": 0
}
